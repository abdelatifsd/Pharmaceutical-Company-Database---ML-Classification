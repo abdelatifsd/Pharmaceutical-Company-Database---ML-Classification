{
 "cells": [
  {
   "cell_type": "code",
   "execution_count": 82,
   "metadata": {},
   "outputs": [
    {
     "name": "stdout",
     "output_type": "stream",
     "text": [
      "Quantity of purchace estimate given blood type: B , age : 30, gender: male\n",
      "[ 2.40009077]\n",
      "-------------------\n",
      "-------------------\n",
      "[ 3.6028916   2.03922459]\n",
      "[4 2]\n"
     ]
    },
    {
     "name": "stderr",
     "output_type": "stream",
     "text": [
      "/opt/conda/lib/python3.6/site-packages/sklearn/utils/validation.py:395: DeprecationWarning: Passing 1d arrays as data is deprecated in 0.17 and will raise ValueError in 0.19. Reshape your data either using X.reshape(-1, 1) if your data has a single feature or X.reshape(1, -1) if it contains a single sample.\n",
      "  DeprecationWarning)\n"
     ]
    }
   ],
   "source": [
    "import numpy as np\n",
    "import pandas as pd\n",
    "import matplotlib.pyplot as plt\n",
    "\n",
    "dataset = pd.read_csv(\"regression_prediction.csv\")\n",
    "\n",
    "X = dataset.iloc[:,:-1].values # Input Features\n",
    "Y = dataset.iloc[:,3].values  # Quantity\n",
    "\n",
    "from sklearn.preprocessing import LabelEncoder, OneHotEncoder\n",
    "le_x = LabelEncoder()\n",
    "X[:,1] = le_x.fit_transform(X[:,1])\n",
    "le_x2 = LabelEncoder()\n",
    "X[:,2] = le_x2.fit_transform(X[:,2])\n",
    "ohex = OneHotEncoder(categorical_features = [1])\n",
    "X = ohex.fit_transform(X).toarray()\n",
    "\n",
    "\n",
    "from sklearn.cross_validation import train_test_split\n",
    "X_train,X_test,Y_train,Y_test = train_test_split(X,Y,test_size = 0.2, random_state = 0)\n",
    "\n",
    "\n",
    "\n",
    "from sklearn.linear_model import LinearRegression\n",
    "regressor = LinearRegression()\n",
    "regressor.fit(X_train,Y_train)\n",
    "\n",
    "# Test set predictions\n",
    "\n",
    "y_pred = regressor.predict(X_test)\n",
    "\n",
    "\n",
    "\n",
    "print(\"Quantity of purchace estimate given blood type: B , age : 30, gender: male\")\n",
    "Quantity_predicted = regressor.predict([0,1,0,30,1])\n",
    "\n",
    "print(Quantity_predicted)\n",
    "\n",
    "print(\"-------------------\")\n",
    "print(\"-------------------\")\n",
    "# predicted values\n",
    "print(y_pred)\n",
    "\n",
    "# actual values\n",
    "print(Y_test)\n",
    "\n",
    "\n",
    "\n"
   ]
  },
  {
   "cell_type": "code",
   "execution_count": 67,
   "metadata": {},
   "outputs": [
    {
     "data": {
      "image/png": "[encoded data removed]",
      "text/plain": [
       "<matplotlib.figure.Figure at 0x7f0e69745e48>"
      ]
     },
     "metadata": {},
     "output_type": "display_data"
    }
   ],
   "source": [
    "X_train\n",
    "\n",
    "plt.scatter(X_train,Y_train,color=\"blue\")\n",
    "\n",
    "plt.show()\n",
    "\n",
    "# relationship between age and quantity purchased"
   ]
  },
  {
   "cell_type": "code",
   "execution_count": 73,
   "metadata": {},
   "outputs": [
    {
     "data": {
      "image/png": "[encoded data removed]",
      "text/plain": [
       "<matplotlib.figure.Figure at 0x7f0e5bcc22e8>"
      ]
     },
     "metadata": {},
     "output_type": "display_data"
    }
   ],
   "source": [
    "plt.scatter(X_train,Y_train,color=\"blue\")\n",
    "plt.show()\n",
    "\n",
    "#relationship between gender and quantity purchased"
   ]
  }
 ],
 "metadata": {
  "kernelspec": {
   "display_name": "Python 3",
   "language": "python",
   "name": "python3"
  },
  "language_info": {
   "codemirror_mode": {
    "name": "ipython",
    "version": 3
   },
   "file_extension": ".py",
   "mimetype": "text/x-python",
   "name": "python",
   "nbconvert_exporter": "python",
   "pygments_lexer": "ipython3",
   "version": "3.6.2"
  }
 },
 "nbformat": 4,
 "nbformat_minor": 2
}
